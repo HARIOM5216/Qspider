{
  "nbformat": 4,
  "nbformat_minor": 0,
  "metadata": {
    "colab": {
      "provenance": []
    },
    "kernelspec": {
      "name": "python3",
      "display_name": "Python 3"
    },
    "language_info": {
      "name": "python"
    }
  },
  "cells": [
    {
      "cell_type": "markdown",
      "source": [
        "#Assignment 1\n"
      ],
      "metadata": {
        "id": "dcdN9Vtp-dNT"
      }
    },
    {
      "cell_type": "markdown",
      "source": [
        "Ques1 : s = ‘I am learning python programming’\n",
        "Output : ‘python’\n"
      ],
      "metadata": {
        "id": "xQgz958j9Rsd"
      }
    },
    {
      "cell_type": "code",
      "execution_count": 1,
      "metadata": {
        "colab": {
          "base_uri": "https://localhost:8080/",
          "height": 36
        },
        "id": "JnJ0OqVm9QP4",
        "outputId": "712521e3-69bc-4b7e-afc5-008506d12a0f"
      },
      "outputs": [
        {
          "output_type": "execute_result",
          "data": {
            "text/plain": [
              "'python'"
            ],
            "application/vnd.google.colaboratory.intrinsic+json": {
              "type": "string"
            }
          },
          "metadata": {},
          "execution_count": 1
        }
      ],
      "source": [
        "s = 'I am learning python programming'\n",
        "s[14:20]\n"
      ]
    },
    {
      "cell_type": "markdown",
      "source": [
        "Ques2 : s = ‘I am learning python programming’\n",
        "Output : ‘programming’\n"
      ],
      "metadata": {
        "id": "vj4aO7cX-mfk"
      }
    },
    {
      "cell_type": "code",
      "source": [
        "s = 'I am learning python programming'\n",
        "s[21:32]"
      ],
      "metadata": {
        "colab": {
          "base_uri": "https://localhost:8080/",
          "height": 36
        },
        "id": "SfTGkk0c-ZJu",
        "outputId": "68aab775-e7a9-4d8b-9823-b9a0df9225c6"
      },
      "execution_count": 3,
      "outputs": [
        {
          "output_type": "execute_result",
          "data": {
            "text/plain": [
              "'programming'"
            ],
            "application/vnd.google.colaboratory.intrinsic+json": {
              "type": "string"
            }
          },
          "metadata": {},
          "execution_count": 3
        }
      ]
    },
    {
      "cell_type": "markdown",
      "source": [
        "Ques3 : Reverse a string\n",
        "\tStrr = ‘hello buddy’\n"
      ],
      "metadata": {
        "id": "t14v0uX8_JW0"
      }
    },
    {
      "cell_type": "code",
      "source": [
        "Strr = 'hello buddy'\n",
        "Strr[::-1]"
      ],
      "metadata": {
        "colab": {
          "base_uri": "https://localhost:8080/",
          "height": 36
        },
        "id": "6h8FAFl--9UO",
        "outputId": "fb492790-c304-40ee-d242-7286c6a91eee"
      },
      "execution_count": 4,
      "outputs": [
        {
          "output_type": "execute_result",
          "data": {
            "text/plain": [
              "'yddub olleh'"
            ],
            "application/vnd.google.colaboratory.intrinsic+json": {
              "type": "string"
            }
          },
          "metadata": {},
          "execution_count": 4
        }
      ]
    },
    {
      "cell_type": "markdown",
      "source": [
        "Ques 4 : email = ‘hellobuddy@gmail.com’\n",
        "\tExtract the domain like gmail.com\n"
      ],
      "metadata": {
        "id": "C7j7ep9j_a-1"
      }
    },
    {
      "cell_type": "code",
      "source": [
        "email = 'hellobuddy@gmail.com'\n",
        "email[11:20]"
      ],
      "metadata": {
        "colab": {
          "base_uri": "https://localhost:8080/",
          "height": 36
        },
        "id": "V99qwyQh_Shm",
        "outputId": "f28cfed7-188c-4806-eab9-51a884d8d019"
      },
      "execution_count": 7,
      "outputs": [
        {
          "output_type": "execute_result",
          "data": {
            "text/plain": [
              "'gmail.com'"
            ],
            "application/vnd.google.colaboratory.intrinsic+json": {
              "type": "string"
            }
          },
          "metadata": {},
          "execution_count": 7
        }
      ]
    },
    {
      "cell_type": "markdown",
      "source": [
        "Ques 5 : email = 'hellobuddy@gmail.com'\n",
        "Extract the characters after ."
      ],
      "metadata": {
        "id": "glsfyw42AHKA"
      }
    },
    {
      "cell_type": "code",
      "source": [
        "email = 'hellobuddy@gmail.com'\n",
        "email[17:20]"
      ],
      "metadata": {
        "colab": {
          "base_uri": "https://localhost:8080/",
          "height": 36
        },
        "id": "iYB7Aqq1_yqx",
        "outputId": "8ad38f02-f730-416a-ef1a-ae489f081f3a"
      },
      "execution_count": 9,
      "outputs": [
        {
          "output_type": "execute_result",
          "data": {
            "text/plain": [
              "'com'"
            ],
            "application/vnd.google.colaboratory.intrinsic+json": {
              "type": "string"
            }
          },
          "metadata": {},
          "execution_count": 9
        }
      ]
    },
    {
      "cell_type": "markdown",
      "source": [
        "Ques6 : remove first and last character of the string and return the remaining string ."
      ],
      "metadata": {
        "id": "IdhLaU9FAmAE"
      }
    },
    {
      "cell_type": "code",
      "source": [
        "Qspider = 'institute'\n",
        "Qspider[1:8]"
      ],
      "metadata": {
        "colab": {
          "base_uri": "https://localhost:8080/",
          "height": 36
        },
        "id": "d_GECAMhAiOy",
        "outputId": "3280c319-6b6c-4fd7-dfe3-ee85457bee5c"
      },
      "execution_count": 11,
      "outputs": [
        {
          "output_type": "execute_result",
          "data": {
            "text/plain": [
              "'nstitut'"
            ],
            "application/vnd.google.colaboratory.intrinsic+json": {
              "type": "string"
            }
          },
          "metadata": {},
          "execution_count": 11
        }
      ]
    },
    {
      "cell_type": "markdown",
      "source": [
        "Ques7. Extract file extension using slicing :\n",
        "\n",
        "\tFilename = ‘hello.txt’\n",
        "\n",
        "\tFilename2 = ‘hell.png’\n"
      ],
      "metadata": {
        "id": "7IqVvB2nBkwx"
      }
    },
    {
      "cell_type": "code",
      "source": [
        "Filename = 'hello.txt'\n",
        "\n",
        "Filename2 = 'hell.png'\n",
        "\n",
        "Filename[5:]"
      ],
      "metadata": {
        "colab": {
          "base_uri": "https://localhost:8080/",
          "height": 36
        },
        "id": "hMd_VquJBUIc",
        "outputId": "eb114def-fbd0-4b05-d98b-4d7cce0f675b"
      },
      "execution_count": 15,
      "outputs": [
        {
          "output_type": "execute_result",
          "data": {
            "text/plain": [
              "'.txt'"
            ],
            "application/vnd.google.colaboratory.intrinsic+json": {
              "type": "string"
            }
          },
          "metadata": {},
          "execution_count": 15
        }
      ]
    },
    {
      "cell_type": "code",
      "source": [
        "Filename2[4:]"
      ],
      "metadata": {
        "colab": {
          "base_uri": "https://localhost:8080/",
          "height": 36
        },
        "id": "LTDGvZyACCE1",
        "outputId": "156c5869-bfb2-46c6-f988-4a937791df12"
      },
      "execution_count": 16,
      "outputs": [
        {
          "output_type": "execute_result",
          "data": {
            "text/plain": [
              "'.png'"
            ],
            "application/vnd.google.colaboratory.intrinsic+json": {
              "type": "string"
            }
          },
          "metadata": {},
          "execution_count": 16
        }
      ]
    },
    {
      "cell_type": "markdown",
      "source": [
        "Ques8.  Extract middle 3 characters of a string using slicing\n",
        "\n",
        "\tS = ‘hello buddy how are you’\n"
      ],
      "metadata": {
        "id": "EktQGVWkCgz1"
      }
    },
    {
      "cell_type": "code",
      "source": [
        "S = 'hello buddy how are you'\n",
        "S[10:13]"
      ],
      "metadata": {
        "colab": {
          "base_uri": "https://localhost:8080/",
          "height": 36
        },
        "id": "7nAfiaagCZFe",
        "outputId": "8c5cb00e-f88f-4f98-fff9-463107bad978"
      },
      "execution_count": 21,
      "outputs": [
        {
          "output_type": "execute_result",
          "data": {
            "text/plain": [
              "'y h'"
            ],
            "application/vnd.google.colaboratory.intrinsic+json": {
              "type": "string"
            }
          },
          "metadata": {},
          "execution_count": 21
        }
      ]
    },
    {
      "cell_type": "markdown",
      "source": [
        "Ques 9 : fetch the alternate characters of the given string\n",
        "\n",
        "\tA = ‘how are you Shreya Shrivastava’\n"
      ],
      "metadata": {
        "id": "ldYEB25rD8_W"
      }
    },
    {
      "cell_type": "code",
      "source": [
        "A = 'how are you Shreya Shrivastava'\n",
        "A[::2]"
      ],
      "metadata": {
        "colab": {
          "base_uri": "https://localhost:8080/",
          "height": 36
        },
        "id": "a2tqLjrZCUyu",
        "outputId": "5aabef2e-b5b6-4db8-839b-1d0e520aeba7"
      },
      "execution_count": 22,
      "outputs": [
        {
          "output_type": "execute_result",
          "data": {
            "text/plain": [
              "'hwaeyuSry hiatv'"
            ],
            "application/vnd.google.colaboratory.intrinsic+json": {
              "type": "string"
            }
          },
          "metadata": {},
          "execution_count": 22
        }
      ]
    }
  ]
}