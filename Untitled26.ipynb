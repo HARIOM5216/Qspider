{
  "nbformat": 4,
  "nbformat_minor": 0,
  "metadata": {
    "colab": {
      "provenance": []
    },
    "kernelspec": {
      "name": "python3",
      "display_name": "Python 3"
    },
    "language_info": {
      "name": "python"
    }
  },
  "cells": [
    {
      "cell_type": "markdown",
      "source": [
        "#python project - Book my show Application"
      ],
      "metadata": {
        "id": "TeGpOD7XXxi9"
      }
    },
    {
      "cell_type": "code",
      "source": [
        "movies = ['War2','Coolie','Fantastic 4','Narshimha']\n",
        "price = [350,400,450,500]\n",
        "print(\"---------------------------Welcome To Book my show--------------------------------\")\n",
        "print(f'{movies[0]} - {price[0]}')\n",
        "print(f'{movies[1]} - {price[1]}')\n",
        "print(f'{movies[2]} - {price[2]}')\n",
        "print(f'{movies[3]} - {price[3]}')\n",
        "ask = input(\"Select the movie: \")\n",
        "if ask == movies[0]:\n",
        "  ticket = int(input(\"How many tickets you want: \"))\n",
        "  if ticket <= 60:\n",
        "    print(f'Movie name: {ask}')\n",
        "    print(f'Ticket price: {price[0]}')\n",
        "    print(f'Total price: {ticket * price[0]}')\n",
        "    print(\"Thankyou for booking\")\n",
        "    print(\"-----------Enjoy the movie-----------\")\n",
        "\n",
        "if ask == movies[1]:\n",
        "  ticket = int(input(\"How many tickets you want: \"))\n",
        "  if ticket <= 60:\n",
        "    print(f'Movie name: {ask}')\n",
        "    print(f'Ticket price: {price[1]}')\n",
        "    print(f'Total price: {ticket * price[1]}')\n",
        "    print(\"Thankyou for booking\")\n",
        "    print(\"-----------Enjoy the movie-----------\")\n",
        "\n",
        "if ask == movies[2]:\n",
        "  ticket = int(input(\"How many tickets you want: \"))\n",
        "  if ticket <= 60:\n",
        "    print(f'Movie name: {ask}')\n",
        "    print(f'Ticket price: {price[2]}')\n",
        "    print(f'Total price: {ticket * price[2]}')\n",
        "    print(\"Thankyou for booking\")\n",
        "    print(\"-----------Enjoy the movie-----------\")\n",
        "\n",
        "if ask == movies[3]:\n",
        "  ticket = int(input(\"How many tickets you want: \"))\n",
        "  if ticket <= 60:\n",
        "    print(f'Movie name: {ask}')\n",
        "    print(f'Ticket price: {price[3]}')\n",
        "    print(f'Total price: {ticket * price[3]}')\n",
        "    print(\"Thankyou for booking\")\n",
        "    print(\"-----------Enjoy the movie-----------\")\n",
        "\n",
        "\n",
        "\n",
        "\n",
        "\n"
      ],
      "metadata": {
        "colab": {
          "base_uri": "https://localhost:8080/"
        },
        "id": "HPjZJlwiRscG",
        "outputId": "6d4e304c-e260-4609-c8e2-117aad1e2116"
      },
      "execution_count": null,
      "outputs": [
        {
          "output_type": "stream",
          "name": "stdout",
          "text": [
            "---------------------------Welcome To Book my show--------------------------------\n",
            "War2 - 350\n",
            "Coolie - 400\n",
            "Fantastic 4 - 450\n",
            "Narshimha - 500\n",
            "Select the movie: Narshimha\n",
            "How many tickets you want: 5\n",
            "Movie name: Narshimha\n",
            "Ticket price: 500\n",
            "Total price: 2500\n",
            "Thankyou for booking\n",
            "-----------Enjoy the movie-----------\n"
          ]
        }
      ]
    }
  ]
}