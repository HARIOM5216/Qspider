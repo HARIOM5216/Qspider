{
  "nbformat": 4,
  "nbformat_minor": 0,
  "metadata": {
    "colab": {
      "provenance": []
    },
    "kernelspec": {
      "name": "python3",
      "display_name": "Python 3"
    },
    "language_info": {
      "name": "python"
    }
  },
  "cells": [
    {
      "cell_type": "markdown",
      "source": [
        "#Assignment - elif conditions"
      ],
      "metadata": {
        "id": "xQ9FUec5v2E2"
      }
    },
    {
      "cell_type": "markdown",
      "source": [
        "2.wap to check a data is a sequence/iterable/individual datatype"
      ],
      "metadata": {
        "id": "vmo0DvrwpwUP"
      }
    },
    {
      "cell_type": "code",
      "source": [
        "i = eval(input(\"entr data \"))\n",
        "if type(i) in (str,tuple):\n",
        "  print(\"immutable\")\n",
        "elif type(i) in (list, set, dict):\n",
        "  print(\"mutable\")\n",
        "else:\n",
        "  print(\"individual datatype\")"
      ],
      "metadata": {
        "colab": {
          "base_uri": "https://localhost:8080/"
        },
        "id": "1QQGMrrUprj9",
        "outputId": "dc6766b7-dde6-4a13-9fa8-a9dec746ea87"
      },
      "execution_count": 4,
      "outputs": [
        {
          "output_type": "stream",
          "name": "stdout",
          "text": [
            "entr data [1,2,3,4,5]\n",
            "mutable\n"
          ]
        }
      ]
    },
    {
      "cell_type": "markdown",
      "source": [
        "3.wap if input is string return its length,else if input is list pop element,else\n",
        " if input is tuple reverse else invalid input"
      ],
      "metadata": {
        "id": "xYce8mGFqxi1"
      }
    },
    {
      "cell_type": "code",
      "source": [
        "a = eval(input(\"entrr data\"))\n",
        "if type(a) == str:\n",
        "  print(len(a))\n",
        "elif type(a) == list:\n",
        "  a.pop()\n",
        "  print(a)\n",
        "elif type(a) == tuple:\n",
        "  print(a[::-1])"
      ],
      "metadata": {
        "colab": {
          "base_uri": "https://localhost:8080/"
        },
        "id": "5VPh5za1qXH7",
        "outputId": "f5ce598e-5bc7-4038-9e0e-6691d4343000"
      },
      "execution_count": 6,
      "outputs": [
        {
          "output_type": "stream",
          "name": "stdout",
          "text": [
            "entrr data(5,4,3,2,1)\n",
            "(1, 2, 3, 4, 5)\n"
          ]
        }
      ]
    },
    {
      "cell_type": "markdown",
      "source": [
        "4.wap to check a age belongs to category 0 to 17 child and 18 to 30 ur adult,31 to 60 ur men,61 to 100 senior citizen,else\n",
        " invalid"
      ],
      "metadata": {
        "id": "a-FnBbFyrQxF"
      }
    },
    {
      "cell_type": "code",
      "source": [
        "age= int(input())\n",
        "if 0 <= age <= 17:\n",
        "  print(\"you are child\")\n",
        "elif 18 <= age <= 30:\n",
        "  print(\" you are adult\")\n",
        "elif 31 <= age <= 60:\n",
        "  print(\"you are men\")\n",
        "elif 61 <= age <= 100:\n",
        "  print(\"you are senior citizen\")\n",
        "else:\n",
        "  print(\"invalid\")"
      ],
      "metadata": {
        "colab": {
          "base_uri": "https://localhost:8080/"
        },
        "id": "8ouLmVddrE5B",
        "outputId": "bb40ebf4-3106-46d8-a1e0-291435dd48cf"
      },
      "execution_count": 7,
      "outputs": [
        {
          "output_type": "stream",
          "name": "stdout",
          "text": [
            "99\n",
            "you are senior citizen\n"
          ]
        }
      ]
    },
    {
      "cell_type": "markdown",
      "source": [
        "5.wap to give hike to an employee based on his experiance,u should ask employee date of joining\n",
        " exp 0 to 2 years no hike and 3 to 5 years 5000rs hike,and 6 to 8 years 7000rs and 9 to n years 10000rs"
      ],
      "metadata": {
        "id": "3dIeY76Ir4Ut"
      }
    },
    {
      "cell_type": "code",
      "source": [
        "exp = int(input(\"enter exp \"))\n",
        "if 0 <= exp <= 2:\n",
        "  print(\"no hike\")\n",
        "elif 3 <= exp <= 5:\n",
        "  print(\"5000rs hike\")\n",
        "elif 6 <= exp <= 8:\n",
        "  print(\"7000rs hike\")\n",
        "else:\n",
        "  print(\"10000rs hike\")"
      ],
      "metadata": {
        "colab": {
          "base_uri": "https://localhost:8080/"
        },
        "id": "szRZCub_rpHm",
        "outputId": "2b2f64f1-bec9-49f5-f26b-ff488740dec0"
      },
      "execution_count": 8,
      "outputs": [
        {
          "output_type": "stream",
          "name": "stdout",
          "text": [
            "enter exp 10\n",
            "10000rs hike\n"
          ]
        }
      ]
    },
    {
      "cell_type": "markdown",
      "source": [
        "6.wap to check which is smallest value among 3 numbers\n",
        "a=65  b=34  c=76"
      ],
      "metadata": {
        "id": "UWahi7tHsNXz"
      }
    },
    {
      "cell_type": "code",
      "source": [
        "a = 65\n",
        "b = 34\n",
        "c = 76\n",
        "if a < b and a < c:\n",
        "  print(\"a is smallest\")\n",
        "elif b < a and b < c:\n",
        "  print(\"b is smallest\")\n",
        "else:\n",
        "  print(\"c is smallest\")"
      ],
      "metadata": {
        "colab": {
          "base_uri": "https://localhost:8080/"
        },
        "id": "SbnF4Vg0sGpR",
        "outputId": "d66fed3c-b725-4714-f78c-85ac08584601"
      },
      "execution_count": 9,
      "outputs": [
        {
          "output_type": "stream",
          "name": "stdout",
          "text": [
            "b is smallest\n"
          ]
        }
      ]
    },
    {
      "cell_type": "markdown",
      "source": [
        "7.wap to take marks of 5 sub,calculate the average if the average is b/w 90-100 print Distinction\n",
        "if 75-89 print firstclass and if its 60-74 print second class, if 50-59 print Third class,below 50 is fail"
      ],
      "metadata": {
        "id": "l_qVxi0Rsb9r"
      }
    },
    {
      "cell_type": "code",
      "source": [
        "s1 = int(input(\"enter marks \"))\n",
        "s2 = int(input(\"enter marks \"))\n",
        "s3 = int(input(\"enter marks \"))\n",
        "s4 = int(input(\"enter marks \"))\n",
        "s5 = int(input(\"enter marks \"))\n",
        "avg = (s1+s2+s3+s4+s5)/5\n",
        "if 90 <= avg <= 100:\n",
        "  print(\"distinction\")\n",
        "elif 75 <= avg <= 89:\n",
        "  print(\"first class\")\n",
        "elif 60 <= avg <= 74:\n",
        "  print(\"second class\")\n",
        "elif 50 <= avg <= 59:\n",
        "  print(\"third class\")\n",
        "else:\n",
        "  print(\"fail\")"
      ],
      "metadata": {
        "colab": {
          "base_uri": "https://localhost:8080/"
        },
        "id": "Eper54L7sXVz",
        "outputId": "a9b8e17d-feef-4541-d03d-779eb3941ac8"
      },
      "execution_count": 10,
      "outputs": [
        {
          "output_type": "stream",
          "name": "stdout",
          "text": [
            "enter marks 30\n",
            "enter marks 50\n",
            "enter marks 90\n",
            "enter marks 80\n",
            "enter marks 70\n",
            "second class\n"
          ]
        }
      ]
    },
    {
      "cell_type": "markdown",
      "source": [
        "8.wap to check the char is uppercase or lowercase or digit or special symbol by taking user input without useing inbuilt function."
      ],
      "metadata": {
        "id": "DPXrUeDts2AQ"
      }
    },
    {
      "cell_type": "code",
      "source": [
        "char = input(\"enter char \")\n",
        "if \"a\" <= char <= \"z\":\n",
        "  print(\"lowercase\")\n",
        "elif \"A\" <= char <= \"Z\":\n",
        "  print(\"uppercase\")\n",
        "elif \"0\" <= char <= \"9\":\n",
        "  print(\"digit\")\n",
        "else:\n",
        "  print(\"special symbol\")"
      ],
      "metadata": {
        "colab": {
          "base_uri": "https://localhost:8080/"
        },
        "id": "rmFutjS-t_Ez",
        "outputId": "accc8a70-6cf7-4a2f-fbd4-06a201b18156"
      },
      "execution_count": 27,
      "outputs": [
        {
          "output_type": "stream",
          "name": "stdout",
          "text": [
            "enter char h\n",
            "lowercase\n"
          ]
        }
      ]
    }
  ]
}